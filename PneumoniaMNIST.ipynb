{
 "cells": [
  {
   "cell_type": "markdown",
   "metadata": {
    "id": "efaf1543"
   },
   "source": [
    "## **Installing LibAUC**\n",
    "\n",
    "Let's start with install our library here. In this tutorial, we will use version `1.2.0`."
   ]
  },
  {
   "cell_type": "code",
   "execution_count": 1,
   "metadata": {
    "id": "0hQeospBloJU"
   },
   "outputs": [
    {
     "name": "stdout",
     "output_type": "stream",
     "text": [
      "Defaulting to user installation because normal site-packages is not writeable\n",
      "Requirement already satisfied: libauc==1.2.0 in /home/grads/s/skpaul/.local/lib/python3.10/site-packages (1.2.0)\n",
      "Requirement already satisfied: opencv-python in /home/grads/s/skpaul/.local/lib/python3.10/site-packages (from libauc==1.2.0) (4.10.0.84)\n",
      "Requirement already satisfied: Pillow in /home/grads/s/skpaul/.local/lib/python3.10/site-packages (from libauc==1.2.0) (11.0.0)\n",
      "Requirement already satisfied: pandas in /home/grads/s/skpaul/.local/lib/python3.10/site-packages (from libauc==1.2.0) (2.2.3)\n",
      "Requirement already satisfied: numpy in /home/grads/s/skpaul/.local/lib/python3.10/site-packages (from libauc==1.2.0) (2.1.2)\n",
      "Requirement already satisfied: scikit-learn in /home/grads/s/skpaul/.local/lib/python3.10/site-packages (from libauc==1.2.0) (1.5.2)\n",
      "Requirement already satisfied: torch>=1.2 in /home/grads/s/skpaul/.local/lib/python3.10/site-packages (from libauc==1.2.0) (2.5.1)\n",
      "Requirement already satisfied: scikit-image in /home/grads/s/skpaul/.local/lib/python3.10/site-packages (from libauc==1.2.0) (0.24.0)\n",
      "Requirement already satisfied: nvidia-cusolver-cu12==11.6.1.9 in /home/grads/s/skpaul/.local/lib/python3.10/site-packages (from torch>=1.2->libauc==1.2.0) (11.6.1.9)\n",
      "Requirement already satisfied: fsspec in /home/grads/s/skpaul/.local/lib/python3.10/site-packages (from torch>=1.2->libauc==1.2.0) (2024.10.0)\n",
      "Requirement already satisfied: nvidia-cublas-cu12==12.4.5.8 in /home/grads/s/skpaul/.local/lib/python3.10/site-packages (from torch>=1.2->libauc==1.2.0) (12.4.5.8)\n",
      "Requirement already satisfied: nvidia-cudnn-cu12==9.1.0.70 in /home/grads/s/skpaul/.local/lib/python3.10/site-packages (from torch>=1.2->libauc==1.2.0) (9.1.0.70)\n",
      "Requirement already satisfied: jinja2 in /home/grads/s/skpaul/.local/lib/python3.10/site-packages (from torch>=1.2->libauc==1.2.0) (3.1.4)\n",
      "Requirement already satisfied: sympy==1.13.1 in /home/grads/s/skpaul/.local/lib/python3.10/site-packages (from torch>=1.2->libauc==1.2.0) (1.13.1)\n",
      "Requirement already satisfied: nvidia-cusparse-cu12==12.3.1.170 in /home/grads/s/skpaul/.local/lib/python3.10/site-packages (from torch>=1.2->libauc==1.2.0) (12.3.1.170)\n",
      "Requirement already satisfied: nvidia-nvjitlink-cu12==12.4.127 in /home/grads/s/skpaul/.local/lib/python3.10/site-packages (from torch>=1.2->libauc==1.2.0) (12.4.127)\n",
      "Requirement already satisfied: nvidia-curand-cu12==10.3.5.147 in /home/grads/s/skpaul/.local/lib/python3.10/site-packages (from torch>=1.2->libauc==1.2.0) (10.3.5.147)\n",
      "Requirement already satisfied: networkx in /home/grads/s/skpaul/.local/lib/python3.10/site-packages (from torch>=1.2->libauc==1.2.0) (3.4.2)\n",
      "Requirement already satisfied: triton==3.1.0 in /home/grads/s/skpaul/.local/lib/python3.10/site-packages (from torch>=1.2->libauc==1.2.0) (3.1.0)\n",
      "Requirement already satisfied: nvidia-nvtx-cu12==12.4.127 in /home/grads/s/skpaul/.local/lib/python3.10/site-packages (from torch>=1.2->libauc==1.2.0) (12.4.127)\n",
      "Requirement already satisfied: typing-extensions>=4.8.0 in /home/grads/s/skpaul/.local/lib/python3.10/site-packages (from torch>=1.2->libauc==1.2.0) (4.12.2)\n",
      "Requirement already satisfied: nvidia-cuda-nvrtc-cu12==12.4.127 in /home/grads/s/skpaul/.local/lib/python3.10/site-packages (from torch>=1.2->libauc==1.2.0) (12.4.127)\n",
      "Requirement already satisfied: nvidia-cufft-cu12==11.2.1.3 in /home/grads/s/skpaul/.local/lib/python3.10/site-packages (from torch>=1.2->libauc==1.2.0) (11.2.1.3)\n",
      "Requirement already satisfied: nvidia-cuda-runtime-cu12==12.4.127 in /home/grads/s/skpaul/.local/lib/python3.10/site-packages (from torch>=1.2->libauc==1.2.0) (12.4.127)\n",
      "Requirement already satisfied: filelock in /home/grads/s/skpaul/.local/lib/python3.10/site-packages (from torch>=1.2->libauc==1.2.0) (3.16.1)\n",
      "Requirement already satisfied: nvidia-cuda-cupti-cu12==12.4.127 in /home/grads/s/skpaul/.local/lib/python3.10/site-packages (from torch>=1.2->libauc==1.2.0) (12.4.127)\n",
      "Requirement already satisfied: nvidia-nccl-cu12==2.21.5 in /home/grads/s/skpaul/.local/lib/python3.10/site-packages (from torch>=1.2->libauc==1.2.0) (2.21.5)\n",
      "Requirement already satisfied: mpmath<1.4,>=1.1.0 in /home/grads/s/skpaul/.local/lib/python3.10/site-packages (from sympy==1.13.1->torch>=1.2->libauc==1.2.0) (1.3.0)\n",
      "Requirement already satisfied: pytz>=2020.1 in /usr/lib/python3/dist-packages (from pandas->libauc==1.2.0) (2022.1)\n",
      "Requirement already satisfied: tzdata>=2022.7 in /home/grads/s/skpaul/.local/lib/python3.10/site-packages (from pandas->libauc==1.2.0) (2024.2)\n",
      "Requirement already satisfied: python-dateutil>=2.8.2 in /home/grads/s/skpaul/.local/lib/python3.10/site-packages (from pandas->libauc==1.2.0) (2.9.0.post0)\n",
      "Requirement already satisfied: packaging>=21 in /home/grads/s/skpaul/.local/lib/python3.10/site-packages (from scikit-image->libauc==1.2.0) (24.1)\n",
      "Requirement already satisfied: tifffile>=2022.8.12 in /home/grads/s/skpaul/.local/lib/python3.10/site-packages (from scikit-image->libauc==1.2.0) (2024.9.20)\n",
      "Requirement already satisfied: scipy>=1.9 in /home/grads/s/skpaul/.local/lib/python3.10/site-packages (from scikit-image->libauc==1.2.0) (1.14.1)\n",
      "Requirement already satisfied: imageio>=2.33 in /home/grads/s/skpaul/.local/lib/python3.10/site-packages (from scikit-image->libauc==1.2.0) (2.36.0)\n",
      "Requirement already satisfied: lazy-loader>=0.4 in /home/grads/s/skpaul/.local/lib/python3.10/site-packages (from scikit-image->libauc==1.2.0) (0.4)\n",
      "Requirement already satisfied: joblib>=1.2.0 in /home/grads/s/skpaul/.local/lib/python3.10/site-packages (from scikit-learn->libauc==1.2.0) (1.4.2)\n",
      "Requirement already satisfied: threadpoolctl>=3.1.0 in /home/grads/s/skpaul/.local/lib/python3.10/site-packages (from scikit-learn->libauc==1.2.0) (3.5.0)\n",
      "Requirement already satisfied: six>=1.5 in /usr/lib/python3/dist-packages (from python-dateutil>=2.8.2->pandas->libauc==1.2.0) (1.16.0)\n",
      "Requirement already satisfied: MarkupSafe>=2.0 in /usr/lib/python3/dist-packages (from jinja2->torch>=1.2->libauc==1.2.0) (2.0.1)\n",
      "Defaulting to user installation because normal site-packages is not writeable\n",
      "Requirement already satisfied: medmnist in /home/grads/s/skpaul/.local/lib/python3.10/site-packages (2.1.0)\n",
      "Requirement already satisfied: torch in /home/grads/s/skpaul/.local/lib/python3.10/site-packages (from medmnist) (2.5.1)\n",
      "Requirement already satisfied: numpy in /home/grads/s/skpaul/.local/lib/python3.10/site-packages (from medmnist) (2.1.2)\n",
      "Requirement already satisfied: fire in /home/grads/s/skpaul/.local/lib/python3.10/site-packages (from medmnist) (0.7.0)\n",
      "Requirement already satisfied: torchvision in /home/grads/s/skpaul/.local/lib/python3.10/site-packages (from medmnist) (0.20.1)\n",
      "Requirement already satisfied: pandas in /home/grads/s/skpaul/.local/lib/python3.10/site-packages (from medmnist) (2.2.3)\n",
      "Requirement already satisfied: tqdm in /home/grads/s/skpaul/.local/lib/python3.10/site-packages (from medmnist) (4.66.6)\n",
      "Requirement already satisfied: scikit-learn in /home/grads/s/skpaul/.local/lib/python3.10/site-packages (from medmnist) (1.5.2)\n",
      "Requirement already satisfied: scikit-image in /home/grads/s/skpaul/.local/lib/python3.10/site-packages (from medmnist) (0.24.0)\n",
      "Requirement already satisfied: Pillow in /home/grads/s/skpaul/.local/lib/python3.10/site-packages (from medmnist) (11.0.0)\n",
      "Requirement already satisfied: termcolor in /home/grads/s/skpaul/.local/lib/python3.10/site-packages (from fire->medmnist) (2.5.0)\n",
      "Requirement already satisfied: pytz>=2020.1 in /usr/lib/python3/dist-packages (from pandas->medmnist) (2022.1)\n",
      "Requirement already satisfied: python-dateutil>=2.8.2 in /home/grads/s/skpaul/.local/lib/python3.10/site-packages (from pandas->medmnist) (2.9.0.post0)\n",
      "Requirement already satisfied: tzdata>=2022.7 in /home/grads/s/skpaul/.local/lib/python3.10/site-packages (from pandas->medmnist) (2024.2)\n",
      "Requirement already satisfied: tifffile>=2022.8.12 in /home/grads/s/skpaul/.local/lib/python3.10/site-packages (from scikit-image->medmnist) (2024.9.20)\n",
      "Requirement already satisfied: networkx>=2.8 in /home/grads/s/skpaul/.local/lib/python3.10/site-packages (from scikit-image->medmnist) (3.4.2)\n",
      "Requirement already satisfied: packaging>=21 in /home/grads/s/skpaul/.local/lib/python3.10/site-packages (from scikit-image->medmnist) (24.1)\n",
      "Requirement already satisfied: lazy-loader>=0.4 in /home/grads/s/skpaul/.local/lib/python3.10/site-packages (from scikit-image->medmnist) (0.4)\n",
      "Requirement already satisfied: imageio>=2.33 in /home/grads/s/skpaul/.local/lib/python3.10/site-packages (from scikit-image->medmnist) (2.36.0)\n",
      "Requirement already satisfied: scipy>=1.9 in /home/grads/s/skpaul/.local/lib/python3.10/site-packages (from scikit-image->medmnist) (1.14.1)\n",
      "Requirement already satisfied: threadpoolctl>=3.1.0 in /home/grads/s/skpaul/.local/lib/python3.10/site-packages (from scikit-learn->medmnist) (3.5.0)\n",
      "Requirement already satisfied: joblib>=1.2.0 in /home/grads/s/skpaul/.local/lib/python3.10/site-packages (from scikit-learn->medmnist) (1.4.2)\n",
      "Requirement already satisfied: sympy==1.13.1 in /home/grads/s/skpaul/.local/lib/python3.10/site-packages (from torch->medmnist) (1.13.1)\n",
      "Requirement already satisfied: nvidia-cuda-nvrtc-cu12==12.4.127 in /home/grads/s/skpaul/.local/lib/python3.10/site-packages (from torch->medmnist) (12.4.127)\n",
      "Requirement already satisfied: fsspec in /home/grads/s/skpaul/.local/lib/python3.10/site-packages (from torch->medmnist) (2024.10.0)\n",
      "Requirement already satisfied: nvidia-cudnn-cu12==9.1.0.70 in /home/grads/s/skpaul/.local/lib/python3.10/site-packages (from torch->medmnist) (9.1.0.70)\n",
      "Requirement already satisfied: nvidia-cufft-cu12==11.2.1.3 in /home/grads/s/skpaul/.local/lib/python3.10/site-packages (from torch->medmnist) (11.2.1.3)\n",
      "Requirement already satisfied: nvidia-cublas-cu12==12.4.5.8 in /home/grads/s/skpaul/.local/lib/python3.10/site-packages (from torch->medmnist) (12.4.5.8)\n",
      "Requirement already satisfied: nvidia-curand-cu12==10.3.5.147 in /home/grads/s/skpaul/.local/lib/python3.10/site-packages (from torch->medmnist) (10.3.5.147)\n",
      "Requirement already satisfied: nvidia-nvjitlink-cu12==12.4.127 in /home/grads/s/skpaul/.local/lib/python3.10/site-packages (from torch->medmnist) (12.4.127)\n",
      "Requirement already satisfied: filelock in /home/grads/s/skpaul/.local/lib/python3.10/site-packages (from torch->medmnist) (3.16.1)\n",
      "Requirement already satisfied: nvidia-cusparse-cu12==12.3.1.170 in /home/grads/s/skpaul/.local/lib/python3.10/site-packages (from torch->medmnist) (12.3.1.170)\n",
      "Requirement already satisfied: nvidia-nccl-cu12==2.21.5 in /home/grads/s/skpaul/.local/lib/python3.10/site-packages (from torch->medmnist) (2.21.5)\n",
      "Requirement already satisfied: nvidia-cuda-runtime-cu12==12.4.127 in /home/grads/s/skpaul/.local/lib/python3.10/site-packages (from torch->medmnist) (12.4.127)\n",
      "Requirement already satisfied: nvidia-cuda-cupti-cu12==12.4.127 in /home/grads/s/skpaul/.local/lib/python3.10/site-packages (from torch->medmnist) (12.4.127)\n",
      "Requirement already satisfied: nvidia-nvtx-cu12==12.4.127 in /home/grads/s/skpaul/.local/lib/python3.10/site-packages (from torch->medmnist) (12.4.127)\n",
      "Requirement already satisfied: jinja2 in /home/grads/s/skpaul/.local/lib/python3.10/site-packages (from torch->medmnist) (3.1.4)\n",
      "Requirement already satisfied: triton==3.1.0 in /home/grads/s/skpaul/.local/lib/python3.10/site-packages (from torch->medmnist) (3.1.0)\n",
      "Requirement already satisfied: nvidia-cusolver-cu12==11.6.1.9 in /home/grads/s/skpaul/.local/lib/python3.10/site-packages (from torch->medmnist) (11.6.1.9)\n",
      "Requirement already satisfied: typing-extensions>=4.8.0 in /home/grads/s/skpaul/.local/lib/python3.10/site-packages (from torch->medmnist) (4.12.2)\n",
      "Requirement already satisfied: mpmath<1.4,>=1.1.0 in /home/grads/s/skpaul/.local/lib/python3.10/site-packages (from sympy==1.13.1->torch->medmnist) (1.3.0)\n",
      "Requirement already satisfied: six>=1.5 in /usr/lib/python3/dist-packages (from python-dateutil>=2.8.2->pandas->medmnist) (1.16.0)\n",
      "Requirement already satisfied: MarkupSafe>=2.0 in /usr/lib/python3/dist-packages (from jinja2->torch->medmnist) (2.0.1)\n"
     ]
    }
   ],
   "source": [
    "! pip install libauc==1.2.0\n",
    "! pip install medmnist"
   ]
  },
  {
   "cell_type": "markdown",
   "metadata": {
    "id": "TYTvudnlQMEX"
   },
   "source": [
    "# **Importing LibAUC**\n",
    "Import required libraries to use"
   ]
  },
  {
   "cell_type": "code",
   "execution_count": 2,
   "metadata": {
    "id": "HBdrV5mOV9ze"
   },
   "outputs": [],
   "source": [
    "from libauc.losses import AUCMLoss\n",
    "from libauc.optimizers import PESG\n",
    "from libauc.models import resnet20 as ResNet20\n",
    "from libauc.datasets import CIFAR10\n",
    "from libauc.utils import ImbalancedDataGenerator\n",
    "from libauc.sampler import DualSampler\n",
    "from libauc.metrics import auc_roc_score, auc_prc_score\n",
    "\n",
    "import torch \n",
    "from PIL import Image\n",
    "import numpy as np\n",
    "import torchvision.transforms as transforms\n",
    "from torch.utils.data import Dataset\n",
    "from sklearn.metrics import roc_auc_score\n",
    "from libauc.models import resnet18"
   ]
  },
  {
   "cell_type": "markdown",
   "metadata": {
    "id": "c4gWa0Yisyoi"
   },
   "source": [
    "## **Reproducibility**\n",
    "\n",
    "These functions limit the number of sources of randomness behaviors, such as model intialization, data shuffling, etcs. However, completely reproducible results are not guaranteed across PyTorch releases [[Ref]](https://pytorch.org/docs/stable/notes/randomness.html#:~:text=Completely%20reproducible%20results%20are%20not,even%20when%20using%20identical%20seeds.)."
   ]
  },
  {
   "cell_type": "code",
   "execution_count": 3,
   "metadata": {
    "id": "glsgJdAKsyoi"
   },
   "outputs": [],
   "source": [
    "def set_all_seeds(SEED):\n",
    "    # REPRODUCIBILITY\n",
    "    torch.manual_seed(SEED)\n",
    "    np.random.seed(SEED)\n",
    "    torch.backends.cudnn.deterministic = True\n",
    "    torch.backends.cudnn.benchmark = False"
   ]
  },
  {
   "cell_type": "markdown",
   "metadata": {
    "id": "QFmMHcdDsyoj"
   },
   "source": [
    "## **Image Dataset**\n",
    "\n",
    "\n",
    "Now that we defined the data input pipeline such as data augmentations. In this tutorials, we use `RandomCrop`, `RandomHorizontalFlip`.\n",
    "\n",
    "\n"
   ]
  },
  {
   "cell_type": "code",
   "execution_count": 4,
   "metadata": {
    "id": "Y7rC7aTuQ2cX"
   },
   "outputs": [],
   "source": [
    "class ImageDataset(Dataset):\n",
    "    def __init__(self, images, targets, image_size=32, crop_size=28, mode='train'):\n",
    "       self.images = images.astype(np.uint8)\n",
    "       self.targets = targets\n",
    "       self.mode = mode\n",
    "       self.transform_train = transforms.Compose([                                                \n",
    "                              transforms.ToTensor(),\n",
    "                              transforms.RandomCrop((crop_size, crop_size), padding=None),\n",
    "                              transforms.RandomHorizontalFlip(),\n",
    "                              transforms.Resize((image_size, image_size)),\n",
    "                              ])\n",
    "       self.transform_test = transforms.Compose([\n",
    "                             transforms.ToTensor(),\n",
    "                             transforms.Resize((image_size, image_size)),\n",
    "                              ])\n",
    "    def __len__(self):\n",
    "        return len(self.images)\n",
    "\n",
    "    def __getitem__(self, idx):\n",
    "        image = self.images[idx]\n",
    "        target = self.targets[idx]\n",
    "        image = Image.fromarray(image.astype('uint8'))\n",
    "        if self.mode == 'train':\n",
    "            image = self.transform_train(image)\n",
    "        else:\n",
    "            image = self.transform_test(image)\n",
    "        return image, target"
   ]
  },
  {
   "cell_type": "markdown",
   "metadata": {
    "id": "I-RegPMrBH-i"
   },
   "source": [
    "## **Hyper-parameters**\n",
    "**DualSampler**\n",
    "- `batch_size`: how many samples per mini-batch used for training model \n",
    "- `sampling_rate`: the oversampling ratio for the positive minority class (default: 0.0)\n",
    "\n",
    "**Loss**\n",
    "  * `margin`: margin for surrogate loss (i.e., squred hinge loss). It is intergrated with optimizer (default: 1.0)\n",
    "    \n",
    "**Optimizer**\n",
    "  * `lr`: learning rate\n",
    "  * `momentum`: momentum factor (default: 0.9)\n",
    "  * `weight_decay`: weight decay (L2 penalty) (default: 1e-5)\n",
    "  * `epoch_decay`: epoch decay (L2 penalty for epoch-level regularization) (default: 2e-3)\n",
    "\n",
    "## **Tips**\n",
    " - `sampling_ratio` can be tuned in (0, 0.5] based on different datasets\n",
    " - `epoch_decay` is a regularization parameter similar to `weight_decay` that can be tuned\n",
    " - `momentum` is similar to SGD-momentum and you can choose value in [0, 0.9]\n",
    " - `margin` can also be tuned in [0.5, 1.0] for better performance\n",
    "\n"
   ]
  },
  {
   "cell_type": "markdown",
   "metadata": {
    "id": "YjTW36iTQ60Q"
   },
   "source": [
    "# **Paramaters**"
   ]
  },
  {
   "cell_type": "code",
   "execution_count": 5,
   "metadata": {
    "id": "STRhOR7YQ4_r"
   },
   "outputs": [],
   "source": [
    "# HyperParameters\n",
    "SEED = 123\n",
    "BATCH_SIZE = 64\n",
    "imratio = 0.1 # for demo \n",
    "total_epochs = 100\n",
    "decay_epochs = [9]\n",
    "\n",
    "lr = 0.05 #{0.02, 0.05, 0.1} for PESG\n",
    "margin = 1.0\n",
    "epoch_decay = 0.003 # refers gamma in the paper\n",
    "weight_decay = 0\n",
    "\n",
    "# oversampling minority class, you can tune it in (0, 0.5]\n",
    "# e.g., sampling_rate=0.2 is that num of positive samples in mini-batch is sampling_rate*batch_size=13\n",
    "sampling_rate = 0.2 "
   ]
  },
  {
   "cell_type": "markdown",
   "metadata": {
    "id": "5fgzICg5Q-RE"
   },
   "source": [
    "# **Loading datasets**"
   ]
  },
  {
   "cell_type": "code",
   "execution_count": 6,
   "metadata": {
    "colab": {
     "base_uri": "https://localhost:8080/"
    },
    "id": "nGbjRYxqQ9sv",
    "outputId": "d7da3726-1457-44ed-96e6-813fb6aa77bb"
   },
   "outputs": [
    {
     "name": "stdout",
     "output_type": "stream",
     "text": [
      "Using downloaded and verified file: /home/grads/s/skpaul/.medmnist/pneumoniamnist.npz\n",
      "Using downloaded and verified file: /home/grads/s/skpaul/.medmnist/pneumoniamnist.npz\n",
      "#SAMPLES: [1348], POS:NEG: [134 : 1214], POS RATIO: 0.0994\n",
      "#SAMPLES: [624], POS:NEG: [390 : 234], POS RATIO: 0.6250\n"
     ]
    }
   ],
   "source": [
    "# load data as numpy arrays \n",
    "#train_data, train_targets = CIFAR10(root='./data', train=True)\n",
    "#test_data, test_targets  = CIFAR10(root='./data', train=False)\n",
    "\n",
    "# Load PneumoniaMNIST datasets\n",
    "from medmnist import PneumoniaMNIST\n",
    "train_dataset = PneumoniaMNIST(split='train', download=True)\n",
    "test_dataset = PneumoniaMNIST(split='test', download=True)\n",
    "\n",
    "# generate imbalanced data\n",
    "generator = ImbalancedDataGenerator(verbose=True, random_seed=0)\n",
    "(train_images, train_labels) = generator.transform(train_dataset.imgs, train_dataset.labels, imratio=imratio)\n",
    "(test_images, test_labels) = generator.transform(test_dataset.imgs, test_dataset.labels, imratio=0.5) \n",
    "\n",
    "# data augmentations \n",
    "trainSet = ImageDataset(train_images, train_labels)\n",
    "trainSet_eval = ImageDataset(train_images, train_labels, mode='test')\n",
    "testSet = ImageDataset(test_images, test_labels, mode='test')\n",
    "\n",
    "# dataloaders\n",
    "sampler = DualSampler(trainSet, BATCH_SIZE, sampling_rate=sampling_rate)\n",
    "trainloader = torch.utils.data.DataLoader(trainSet, batch_size=BATCH_SIZE, sampler=sampler, num_workers=2)\n",
    "trainloader_eval = torch.utils.data.DataLoader(trainSet_eval, batch_size=BATCH_SIZE, shuffle=False, num_workers=2)\n",
    "testloader = torch.utils.data.DataLoader(testSet, batch_size=BATCH_SIZE, shuffle=False, num_workers=2)"
   ]
  },
  {
   "cell_type": "markdown",
   "metadata": {
    "id": "_MrH548IRDIc"
   },
   "source": [
    "# **Creating models & AUC Optimizer**"
   ]
  },
  {
   "cell_type": "code",
   "execution_count": 7,
   "metadata": {
    "id": "cFxB8QblRCt5"
   },
   "outputs": [],
   "source": [
    "# You can include sigmoid/l2 activations on model's outputs before computing loss\n",
    "#model = ResNet20(pretrained=False, last_activation=None, num_classes=1)\n",
    "\n",
    "# Replace the first convolution layer of ResNet18(model.conv1) with a convolution layer of only 1 input channel(original ResNet is designed for RGB image input)\n",
    "model = resnet18(pretrained=False, last_activation=None, num_classes=1)\n",
    "model.conv1 = torch.nn.Conv2d(1, 64, kernel_size=7, stride=2, padding=3, bias=False)\n",
    "model = model.cuda()\n",
    "\n",
    "# You can also pass Loss.a, Loss.b, Loss.alpha to optimizer (for old version users)\n",
    "loss_fn = AUCMLoss()\n",
    "optimizer = PESG(model, \n",
    "                 loss_fn=loss_fn,\n",
    "                 lr=lr, \n",
    "                 momentum=0.9,\n",
    "                 margin=margin, \n",
    "                 epoch_decay=epoch_decay, \n",
    "                 weight_decay=weight_decay)"
   ]
  },
  {
   "cell_type": "markdown",
   "metadata": {
    "id": "fG5VXXEIRfw3"
   },
   "source": [
    "# **Training**"
   ]
  },
  {
   "cell_type": "code",
   "execution_count": 8,
   "metadata": {
    "colab": {
     "base_uri": "https://localhost:8080/"
    },
    "id": "H1nk8FK3Qygb",
    "outputId": "8ed7d468-6ace-4896-bc7c-4b245e4b3456"
   },
   "outputs": [
    {
     "name": "stdout",
     "output_type": "stream",
     "text": [
      "Start Training\n",
      "------------------------------\n",
      "epoch: 0, train_loss: 0.0792, train_auc: 0.7861, test_auc: 0.7060, train_ap: 0.2848, test_ap: 0.7483, lr: 0.0500\n",
      "epoch: 1, train_loss: 0.0128, train_auc: 0.9770, test_auc: 0.9227, train_ap: 0.9105, test_ap: 0.9337, lr: 0.0500\n",
      "epoch: 2, train_loss: -0.0039, train_auc: 0.9975, test_auc: 0.9419, train_ap: 0.9885, test_ap: 0.9600, lr: 0.0500\n",
      "epoch: 3, train_loss: -0.0028, train_auc: 0.9986, test_auc: 0.9383, train_ap: 0.9914, test_ap: 0.9553, lr: 0.0500\n",
      "epoch: 4, train_loss: -0.0029, train_auc: 1.0000, test_auc: 0.9412, train_ap: 1.0000, test_ap: 0.9602, lr: 0.0500\n",
      "epoch: 5, train_loss: -0.0007, train_auc: 1.0000, test_auc: 0.9441, train_ap: 1.0000, test_ap: 0.9608, lr: 0.0500\n",
      "epoch: 6, train_loss: -0.0008, train_auc: 1.0000, test_auc: 0.9473, train_ap: 1.0000, test_ap: 0.9660, lr: 0.0500\n",
      "epoch: 7, train_loss: -0.0009, train_auc: 1.0000, test_auc: 0.9450, train_ap: 1.0000, test_ap: 0.9641, lr: 0.0500\n",
      "epoch: 8, train_loss: -0.0005, train_auc: 1.0000, test_auc: 0.9478, train_ap: 1.0000, test_ap: 0.9654, lr: 0.0500\n",
      "Reducing learning rate to 0.00500 @ T=207!\n",
      "Updating regularizer @ T=207!\n",
      "epoch: 9, train_loss: 0.0001, train_auc: 1.0000, test_auc: 0.9475, train_ap: 1.0000, test_ap: 0.9650, lr: 0.0050\n",
      "epoch: 10, train_loss: -0.0002, train_auc: 1.0000, test_auc: 0.9477, train_ap: 1.0000, test_ap: 0.9653, lr: 0.0050\n",
      "epoch: 11, train_loss: 0.0005, train_auc: 1.0000, test_auc: 0.9471, train_ap: 1.0000, test_ap: 0.9651, lr: 0.0050\n",
      "epoch: 12, train_loss: -0.0002, train_auc: 1.0000, test_auc: 0.9470, train_ap: 1.0000, test_ap: 0.9649, lr: 0.0050\n",
      "epoch: 13, train_loss: -0.0000, train_auc: 1.0000, test_auc: 0.9458, train_ap: 1.0000, test_ap: 0.9638, lr: 0.0050\n",
      "epoch: 14, train_loss: -0.0001, train_auc: 1.0000, test_auc: 0.9460, train_ap: 1.0000, test_ap: 0.9643, lr: 0.0050\n",
      "epoch: 15, train_loss: -0.0001, train_auc: 1.0000, test_auc: 0.9458, train_ap: 1.0000, test_ap: 0.9640, lr: 0.0050\n",
      "epoch: 16, train_loss: -0.0002, train_auc: 1.0000, test_auc: 0.9453, train_ap: 1.0000, test_ap: 0.9641, lr: 0.0050\n",
      "epoch: 17, train_loss: -0.0002, train_auc: 1.0000, test_auc: 0.9458, train_ap: 1.0000, test_ap: 0.9642, lr: 0.0050\n",
      "epoch: 18, train_loss: -0.0001, train_auc: 1.0000, test_auc: 0.9457, train_ap: 1.0000, test_ap: 0.9641, lr: 0.0050\n",
      "epoch: 19, train_loss: -0.0002, train_auc: 1.0000, test_auc: 0.9453, train_ap: 1.0000, test_ap: 0.9638, lr: 0.0050\n",
      "epoch: 20, train_loss: -0.0001, train_auc: 1.0000, test_auc: 0.9456, train_ap: 1.0000, test_ap: 0.9641, lr: 0.0050\n",
      "epoch: 21, train_loss: -0.0002, train_auc: 1.0000, test_auc: 0.9457, train_ap: 1.0000, test_ap: 0.9642, lr: 0.0050\n",
      "epoch: 22, train_loss: -0.0001, train_auc: 1.0000, test_auc: 0.9460, train_ap: 1.0000, test_ap: 0.9644, lr: 0.0050\n",
      "epoch: 23, train_loss: -0.0001, train_auc: 1.0000, test_auc: 0.9459, train_ap: 1.0000, test_ap: 0.9644, lr: 0.0050\n",
      "epoch: 24, train_loss: -0.0001, train_auc: 1.0000, test_auc: 0.9464, train_ap: 1.0000, test_ap: 0.9647, lr: 0.0050\n",
      "epoch: 25, train_loss: -0.0001, train_auc: 1.0000, test_auc: 0.9460, train_ap: 1.0000, test_ap: 0.9644, lr: 0.0050\n",
      "epoch: 26, train_loss: -0.0001, train_auc: 1.0000, test_auc: 0.9461, train_ap: 1.0000, test_ap: 0.9645, lr: 0.0050\n",
      "epoch: 27, train_loss: -0.0001, train_auc: 1.0000, test_auc: 0.9462, train_ap: 1.0000, test_ap: 0.9643, lr: 0.0050\n",
      "epoch: 28, train_loss: -0.0001, train_auc: 1.0000, test_auc: 0.9462, train_ap: 1.0000, test_ap: 0.9646, lr: 0.0050\n",
      "epoch: 29, train_loss: -0.0001, train_auc: 1.0000, test_auc: 0.9461, train_ap: 1.0000, test_ap: 0.9643, lr: 0.0050\n",
      "epoch: 30, train_loss: -0.0001, train_auc: 1.0000, test_auc: 0.9457, train_ap: 1.0000, test_ap: 0.9642, lr: 0.0050\n",
      "epoch: 31, train_loss: -0.0001, train_auc: 1.0000, test_auc: 0.9460, train_ap: 1.0000, test_ap: 0.9643, lr: 0.0050\n",
      "epoch: 32, train_loss: -0.0001, train_auc: 1.0000, test_auc: 0.9459, train_ap: 1.0000, test_ap: 0.9641, lr: 0.0050\n",
      "epoch: 33, train_loss: -0.0001, train_auc: 1.0000, test_auc: 0.9460, train_ap: 1.0000, test_ap: 0.9643, lr: 0.0050\n",
      "epoch: 34, train_loss: -0.0000, train_auc: 1.0000, test_auc: 0.9464, train_ap: 1.0000, test_ap: 0.9647, lr: 0.0050\n",
      "epoch: 35, train_loss: -0.0000, train_auc: 1.0000, test_auc: 0.9458, train_ap: 1.0000, test_ap: 0.9641, lr: 0.0050\n",
      "epoch: 36, train_loss: -0.0000, train_auc: 1.0000, test_auc: 0.9468, train_ap: 1.0000, test_ap: 0.9650, lr: 0.0050\n",
      "epoch: 37, train_loss: -0.0000, train_auc: 1.0000, test_auc: 0.9464, train_ap: 1.0000, test_ap: 0.9647, lr: 0.0050\n",
      "epoch: 38, train_loss: -0.0000, train_auc: 1.0000, test_auc: 0.9463, train_ap: 1.0000, test_ap: 0.9644, lr: 0.0050\n",
      "epoch: 39, train_loss: -0.0000, train_auc: 1.0000, test_auc: 0.9460, train_ap: 1.0000, test_ap: 0.9643, lr: 0.0050\n",
      "epoch: 40, train_loss: -0.0000, train_auc: 1.0000, test_auc: 0.9460, train_ap: 1.0000, test_ap: 0.9642, lr: 0.0050\n",
      "epoch: 41, train_loss: -0.0000, train_auc: 1.0000, test_auc: 0.9464, train_ap: 1.0000, test_ap: 0.9644, lr: 0.0050\n",
      "epoch: 42, train_loss: -0.0000, train_auc: 1.0000, test_auc: 0.9466, train_ap: 1.0000, test_ap: 0.9647, lr: 0.0050\n",
      "epoch: 43, train_loss: -0.0000, train_auc: 1.0000, test_auc: 0.9464, train_ap: 1.0000, test_ap: 0.9644, lr: 0.0050\n",
      "epoch: 44, train_loss: -0.0000, train_auc: 1.0000, test_auc: 0.9467, train_ap: 1.0000, test_ap: 0.9648, lr: 0.0050\n",
      "epoch: 45, train_loss: -0.0000, train_auc: 1.0000, test_auc: 0.9464, train_ap: 1.0000, test_ap: 0.9644, lr: 0.0050\n",
      "epoch: 46, train_loss: -0.0000, train_auc: 1.0000, test_auc: 0.9464, train_ap: 1.0000, test_ap: 0.9646, lr: 0.0050\n",
      "epoch: 47, train_loss: -0.0000, train_auc: 1.0000, test_auc: 0.9463, train_ap: 1.0000, test_ap: 0.9642, lr: 0.0050\n",
      "epoch: 48, train_loss: -0.0000, train_auc: 1.0000, test_auc: 0.9460, train_ap: 1.0000, test_ap: 0.9641, lr: 0.0050\n",
      "epoch: 49, train_loss: 0.0000, train_auc: 1.0000, test_auc: 0.9461, train_ap: 1.0000, test_ap: 0.9639, lr: 0.0050\n",
      "epoch: 50, train_loss: -0.0000, train_auc: 1.0000, test_auc: 0.9466, train_ap: 1.0000, test_ap: 0.9645, lr: 0.0050\n",
      "epoch: 51, train_loss: 0.0000, train_auc: 1.0000, test_auc: 0.9458, train_ap: 1.0000, test_ap: 0.9640, lr: 0.0050\n",
      "epoch: 52, train_loss: -0.0000, train_auc: 1.0000, test_auc: 0.9466, train_ap: 1.0000, test_ap: 0.9646, lr: 0.0050\n",
      "epoch: 53, train_loss: 0.0000, train_auc: 1.0000, test_auc: 0.9465, train_ap: 1.0000, test_ap: 0.9646, lr: 0.0050\n",
      "epoch: 54, train_loss: -0.0000, train_auc: 1.0000, test_auc: 0.9467, train_ap: 1.0000, test_ap: 0.9645, lr: 0.0050\n",
      "epoch: 55, train_loss: 0.0000, train_auc: 1.0000, test_auc: 0.9469, train_ap: 1.0000, test_ap: 0.9648, lr: 0.0050\n",
      "epoch: 56, train_loss: 0.0000, train_auc: 1.0000, test_auc: 0.9464, train_ap: 1.0000, test_ap: 0.9647, lr: 0.0050\n",
      "epoch: 57, train_loss: 0.0000, train_auc: 1.0000, test_auc: 0.9468, train_ap: 1.0000, test_ap: 0.9647, lr: 0.0050\n",
      "epoch: 58, train_loss: 0.0000, train_auc: 1.0000, test_auc: 0.9461, train_ap: 1.0000, test_ap: 0.9641, lr: 0.0050\n",
      "epoch: 59, train_loss: 0.0000, train_auc: 1.0000, test_auc: 0.9464, train_ap: 1.0000, test_ap: 0.9645, lr: 0.0050\n",
      "epoch: 60, train_loss: 0.0000, train_auc: 1.0000, test_auc: 0.9463, train_ap: 1.0000, test_ap: 0.9641, lr: 0.0050\n",
      "epoch: 61, train_loss: 0.0000, train_auc: 1.0000, test_auc: 0.9465, train_ap: 1.0000, test_ap: 0.9644, lr: 0.0050\n",
      "epoch: 62, train_loss: 0.0000, train_auc: 1.0000, test_auc: 0.9463, train_ap: 1.0000, test_ap: 0.9644, lr: 0.0050\n",
      "epoch: 63, train_loss: 0.0000, train_auc: 1.0000, test_auc: 0.9462, train_ap: 1.0000, test_ap: 0.9642, lr: 0.0050\n",
      "epoch: 64, train_loss: 0.0000, train_auc: 1.0000, test_auc: 0.9464, train_ap: 1.0000, test_ap: 0.9644, lr: 0.0050\n",
      "epoch: 65, train_loss: 0.0000, train_auc: 1.0000, test_auc: 0.9462, train_ap: 1.0000, test_ap: 0.9643, lr: 0.0050\n",
      "epoch: 66, train_loss: 0.0000, train_auc: 1.0000, test_auc: 0.9460, train_ap: 1.0000, test_ap: 0.9639, lr: 0.0050\n",
      "epoch: 67, train_loss: 0.0000, train_auc: 1.0000, test_auc: 0.9460, train_ap: 1.0000, test_ap: 0.9641, lr: 0.0050\n",
      "epoch: 68, train_loss: 0.0000, train_auc: 1.0000, test_auc: 0.9465, train_ap: 1.0000, test_ap: 0.9646, lr: 0.0050\n",
      "epoch: 69, train_loss: 0.0000, train_auc: 1.0000, test_auc: 0.9468, train_ap: 1.0000, test_ap: 0.9646, lr: 0.0050\n",
      "epoch: 70, train_loss: 0.0000, train_auc: 1.0000, test_auc: 0.9464, train_ap: 1.0000, test_ap: 0.9644, lr: 0.0050\n",
      "epoch: 71, train_loss: 0.0000, train_auc: 1.0000, test_auc: 0.9467, train_ap: 1.0000, test_ap: 0.9646, lr: 0.0050\n",
      "epoch: 72, train_loss: 0.0000, train_auc: 1.0000, test_auc: 0.9464, train_ap: 1.0000, test_ap: 0.9644, lr: 0.0050\n",
      "epoch: 73, train_loss: 0.0000, train_auc: 1.0000, test_auc: 0.9456, train_ap: 1.0000, test_ap: 0.9635, lr: 0.0050\n",
      "epoch: 74, train_loss: 0.0000, train_auc: 1.0000, test_auc: 0.9461, train_ap: 1.0000, test_ap: 0.9642, lr: 0.0050\n",
      "epoch: 75, train_loss: 0.0000, train_auc: 1.0000, test_auc: 0.9460, train_ap: 1.0000, test_ap: 0.9640, lr: 0.0050\n",
      "epoch: 76, train_loss: 0.0000, train_auc: 1.0000, test_auc: 0.9462, train_ap: 1.0000, test_ap: 0.9642, lr: 0.0050\n",
      "epoch: 77, train_loss: 0.0000, train_auc: 1.0000, test_auc: 0.9458, train_ap: 1.0000, test_ap: 0.9640, lr: 0.0050\n",
      "epoch: 78, train_loss: 0.0000, train_auc: 1.0000, test_auc: 0.9467, train_ap: 1.0000, test_ap: 0.9646, lr: 0.0050\n",
      "epoch: 79, train_loss: 0.0000, train_auc: 1.0000, test_auc: 0.9464, train_ap: 1.0000, test_ap: 0.9643, lr: 0.0050\n",
      "epoch: 80, train_loss: 0.0000, train_auc: 1.0000, test_auc: 0.9464, train_ap: 1.0000, test_ap: 0.9642, lr: 0.0050\n",
      "epoch: 81, train_loss: 0.0000, train_auc: 1.0000, test_auc: 0.9462, train_ap: 1.0000, test_ap: 0.9641, lr: 0.0050\n",
      "epoch: 82, train_loss: 0.0000, train_auc: 1.0000, test_auc: 0.9462, train_ap: 1.0000, test_ap: 0.9644, lr: 0.0050\n",
      "epoch: 83, train_loss: 0.0000, train_auc: 1.0000, test_auc: 0.9466, train_ap: 1.0000, test_ap: 0.9645, lr: 0.0050\n",
      "epoch: 84, train_loss: 0.0000, train_auc: 1.0000, test_auc: 0.9463, train_ap: 1.0000, test_ap: 0.9643, lr: 0.0050\n",
      "epoch: 85, train_loss: 0.0000, train_auc: 1.0000, test_auc: 0.9464, train_ap: 1.0000, test_ap: 0.9642, lr: 0.0050\n",
      "epoch: 86, train_loss: 0.0000, train_auc: 1.0000, test_auc: 0.9464, train_ap: 1.0000, test_ap: 0.9643, lr: 0.0050\n",
      "epoch: 87, train_loss: 0.0000, train_auc: 1.0000, test_auc: 0.9459, train_ap: 1.0000, test_ap: 0.9640, lr: 0.0050\n",
      "epoch: 88, train_loss: 0.0000, train_auc: 1.0000, test_auc: 0.9461, train_ap: 1.0000, test_ap: 0.9641, lr: 0.0050\n",
      "epoch: 89, train_loss: 0.0000, train_auc: 1.0000, test_auc: 0.9464, train_ap: 1.0000, test_ap: 0.9641, lr: 0.0050\n",
      "epoch: 90, train_loss: 0.0000, train_auc: 1.0000, test_auc: 0.9461, train_ap: 1.0000, test_ap: 0.9640, lr: 0.0050\n",
      "epoch: 91, train_loss: 0.0000, train_auc: 1.0000, test_auc: 0.9466, train_ap: 1.0000, test_ap: 0.9645, lr: 0.0050\n",
      "epoch: 92, train_loss: 0.0000, train_auc: 1.0000, test_auc: 0.9458, train_ap: 1.0000, test_ap: 0.9639, lr: 0.0050\n",
      "epoch: 93, train_loss: 0.0000, train_auc: 1.0000, test_auc: 0.9464, train_ap: 1.0000, test_ap: 0.9644, lr: 0.0050\n",
      "epoch: 94, train_loss: 0.0000, train_auc: 1.0000, test_auc: 0.9464, train_ap: 1.0000, test_ap: 0.9645, lr: 0.0050\n",
      "epoch: 95, train_loss: 0.0000, train_auc: 1.0000, test_auc: 0.9460, train_ap: 1.0000, test_ap: 0.9642, lr: 0.0050\n",
      "epoch: 96, train_loss: 0.0000, train_auc: 1.0000, test_auc: 0.9458, train_ap: 1.0000, test_ap: 0.9637, lr: 0.0050\n",
      "epoch: 97, train_loss: 0.0000, train_auc: 1.0000, test_auc: 0.9459, train_ap: 1.0000, test_ap: 0.9638, lr: 0.0050\n",
      "epoch: 98, train_loss: 0.0000, train_auc: 1.0000, test_auc: 0.9459, train_ap: 1.0000, test_ap: 0.9637, lr: 0.0050\n",
      "epoch: 99, train_loss: 0.0000, train_auc: 1.0000, test_auc: 0.9467, train_ap: 1.0000, test_ap: 0.9645, lr: 0.0050\n"
     ]
    }
   ],
   "source": [
    "print ('Start Training')\n",
    "print ('-'*30)\n",
    "\n",
    "train_log_roc = []\n",
    "test_log_roc = []\n",
    "train_log_prc = []\n",
    "test_log_prc = []\n",
    "for epoch in range(total_epochs):\n",
    "     if epoch in decay_epochs:\n",
    "         optimizer.update_regularizer(decay_factor=10) # decrease learning rate by 10x & update regularizer\n",
    "   \n",
    "     train_loss = []\n",
    "     model.train()    \n",
    "     for data, targets in trainloader:\n",
    "         data, targets  = data.cuda(), targets.cuda()\n",
    "         y_pred = model(data)\n",
    "         y_pred = torch.sigmoid(y_pred)\n",
    "         loss = loss_fn(y_pred, targets)\n",
    "         optimizer.zero_grad()\n",
    "         loss.backward()\n",
    "         optimizer.step()\n",
    "         train_loss.append(loss.item())\n",
    "    \n",
    "     # evaluation on train & test sets\n",
    "     model.eval()\n",
    "     train_pred_list = []\n",
    "     train_true_list = []\n",
    "     for train_data, train_targets in trainloader_eval:\n",
    "         train_data = train_data.cuda()\n",
    "         train_pred = model(train_data)\n",
    "         train_pred_list.append(train_pred.cpu().detach().numpy())\n",
    "         train_true_list.append(train_targets.numpy())\n",
    "     train_true = np.concatenate(train_true_list)\n",
    "     train_pred = np.concatenate(train_pred_list)\n",
    "     train_auc = auc_roc_score(train_true, train_pred)\n",
    "     train_ap = auc_prc_score(train_true, train_pred)\n",
    "     train_loss = np.mean(train_loss)\n",
    "  \n",
    "     test_pred_list = []\n",
    "     test_true_list = [] \n",
    "     for test_data, test_targets in testloader:\n",
    "         test_data = test_data.cuda()\n",
    "         test_pred = model(test_data)\n",
    "         test_pred_list.append(test_pred.cpu().detach().numpy())\n",
    "         test_true_list.append(test_targets.numpy())\n",
    "     test_true = np.concatenate(test_true_list)\n",
    "     test_pred = np.concatenate(test_pred_list)\n",
    "     val_auc =  auc_roc_score(test_true, test_pred)\n",
    "     test_ap = auc_prc_score(test_true, test_pred)\n",
    "     model.train()\n",
    " \n",
    "     # print results\n",
    "     print(\"epoch: %s, train_loss: %.4f, train_auc: %.4f, test_auc: %.4f, train_ap: %.4f, test_ap: %.4f, lr: %.4f\"%(epoch, train_loss, train_auc, val_auc, train_ap, test_ap, optimizer.lr ))    \n",
    "     train_log_roc.append(train_auc) \n",
    "     test_log_roc.append(val_auc)\n",
    "     train_log_prc.append(train_ap)\n",
    "     test_log_prc.append(test_ap)     "
   ]
  },
  {
   "cell_type": "markdown",
   "metadata": {
    "id": "7NgqDsqSxEcY"
   },
   "source": [
    "# **Visualization**\n",
    "Now, let's see the learning curve of optimizing AUROC on train and tes sets. \n"
   ]
  },
  {
   "cell_type": "code",
   "execution_count": null,
   "metadata": {
    "colab": {
     "base_uri": "https://localhost:8080/",
     "height": 391
    },
    "id": "kc3weEruvU-e",
    "outputId": "cf2bc402-66ce-4460-8743-920da86ef078"
   },
   "outputs": [
    {
     "data": {
      "text/plain": [
       "Text(0.5, 0, 'Epoch')"
      ]
     },
     "execution_count": 11,
     "metadata": {},
     "output_type": "execute_result"
    },
    {
     "data": {
      "image/png": "[encoded data removed]",
      "text/plain": [
       "<Figure size 900x500 with 1 Axes>"
      ]
     },
     "metadata": {},
     "output_type": "display_data"
    }
   ],
   "source": [
    "import matplotlib.pyplot as plt\n",
    "plt.rcParams[\"figure.figsize\"] = (9,5)\n",
    "x=np.arange(len(train_log_roc))\n",
    "plt.figure()\n",
    "plt.plot(x, train_log_roc, linestyle='-', label='Train AUROC', linewidth=3)\n",
    "plt.plot(x, test_log_roc,  linestyle='-', label='Test AUROC', linewidth=3)\n",
    "plt.plot(x, train_log_prc, linestyle='--', label='Train AUPRC', linewidth=3)\n",
    "plt.plot(x, test_log_prc,  linestyle='--', label='Test AUPRC', linewidth=3)\n",
    "plt.title('AUCMLoss',fontsize=25)\n",
    "plt.legend(fontsize=15)\n",
    "plt.ylabel('AUROC', fontsize=25)\n",
    "plt.xlabel('Epoch', fontsize=25)"
   ]
  }
 ],
 "metadata": {
  "accelerator": "GPU",
  "colab": {
   "collapsed_sections": [],
   "machine_shape": "hm",
   "name": "02_Optimizing_AUROC_with_ResNet20_on_Imbalanced_CIFAR10.ipynb",
   "provenance": []
  },
  "kernelspec": {
   "display_name": "Python 3",
   "name": "python3"
  },
  "language_info": {
   "codemirror_mode": {
    "name": "ipython",
    "version": 3
   },
   "file_extension": ".py",
   "mimetype": "text/x-python",
   "name": "python",
   "nbconvert_exporter": "python",
   "pygments_lexer": "ipython3",
   "version": "3.10.12"
  }
 },
 "nbformat": 4,
 "nbformat_minor": 0
}
