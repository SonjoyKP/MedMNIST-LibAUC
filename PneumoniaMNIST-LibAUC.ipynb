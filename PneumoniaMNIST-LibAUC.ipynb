{
 "cells": [
  {
   "cell_type": "code",
   "execution_count": null,
   "metadata": {},
   "outputs": [],
   "source": [
    "! pip install medmnist\n",
    "! pip install libauc==1.2.0"
   ]
  },
  {
   "cell_type": "code",
   "execution_count": 1,
   "metadata": {},
   "outputs": [],
   "source": [
    "import torch\n",
    "import torchvision.transforms as transforms\n",
    "from torch.utils.data import DataLoader\n",
    "from medmnist import PneumoniaMNIST\n",
    "from libauc.losses import APLoss, AUCMLoss\n",
    "from libauc.optimizers import SOAP, PESG\n",
    "from libauc.models import resnet18\n",
    "import torch.optim as optim\n",
    "import matplotlib.pyplot as plt"
   ]
  },
  {
   "cell_type": "code",
   "execution_count": 2,
   "metadata": {},
   "outputs": [],
   "source": [
    "# Custom transformations\n",
    "train_transform = transforms.Compose([\n",
    "    transforms.ToTensor(),\n",
    "    transforms.RandomCrop(28),\n",
    "    transforms.RandomHorizontalFlip(),\n",
    "    transforms.Resize(32)\n",
    "])\n",
    "\n",
    "test_transform = transforms.Compose([\n",
    "    transforms.ToTensor(),\n",
    "    transforms.Resize(32)\n",
    "])"
   ]
  },
  {
   "cell_type": "code",
   "execution_count": 3,
   "metadata": {},
   "outputs": [
    {
     "name": "stdout",
     "output_type": "stream",
     "text": [
      "Downloading https://zenodo.org/records/10519652/files/pneumoniamnist.npz?download=1 to /home/grads/s/skpaul/.medmnist/pneumoniamnist.npz\n"
     ]
    },
    {
     "name": "stderr",
     "output_type": "stream",
     "text": [
      "100%|██████████| 4.17M/4.17M [00:01<00:00, 3.92MB/s]"
     ]
    },
    {
     "name": "stdout",
     "output_type": "stream",
     "text": [
      "Using downloaded and verified file: /home/grads/s/skpaul/.medmnist/pneumoniamnist.npz\n"
     ]
    },
    {
     "name": "stderr",
     "output_type": "stream",
     "text": [
      "\n"
     ]
    }
   ],
   "source": [
    "# Load datasets\n",
    "train_dataset = PneumoniaMNIST(split='train', transform=train_transform, download=True)\n",
    "test_dataset = PneumoniaMNIST(split='test', transform=test_transform, download=True)\n",
    "\n",
    "train_loader = DataLoader(train_dataset, batch_size=64, shuffle=True)\n",
    "test_loader = DataLoader(test_dataset, batch_size=64, shuffle=False)"
   ]
  },
  {
   "cell_type": "code",
   "execution_count": 4,
   "metadata": {},
   "outputs": [],
   "source": [
    "# Modify ResNet18 to work with grayscale images\n",
    "def get_resnet18():\n",
    "    model = resnet18(num_classes=2)\n",
    "    model.conv1 = torch.nn.Conv2d(1, 64, kernel_size=7, stride=2, padding=3, bias=False)\n",
    "    return model"
   ]
  },
  {
   "cell_type": "code",
   "execution_count": null,
   "metadata": {},
   "outputs": [],
   "source": [
    "# Function to train model and record AUPRC and AUROC\n",
    "def train_model(model, loss_fn, optimizer, num_epochs=15, scheduler=None):\n",
    "    train_auprc, test_auprc, train_auroc, test_auroc = [], [], [], []\n",
    "\n",
    "    for epoch in range(num_epochs):\n",
    "        model.train()\n",
    "        for data in train_loader:\n",
    "            inputs, labels = data[0].to(device), data[1].squeeze().to(device)  # Adjust target dimension\n",
    "            optimizer.zero_grad()\n",
    "            outputs = model(inputs)\n",
    "            loss = loss_fn(outputs, labels)\n",
    "            loss.backward()\n",
    "            optimizer.step()\n",
    "\n",
    "        # Scheduler step\n",
    "        if scheduler and epoch == 9:\n",
    "            for param_group in optimizer.param_groups:\n",
    "                param_group['lr'] /= 10\n",
    "\n",
    "        # Calculate metrics\n",
    "        train_prc, train_roc = evaluate_model(model, train_loader)\n",
    "        test_prc, test_roc = evaluate_model(model, test_loader)\n",
    "\n",
    "        train_auprc.append(train_prc)\n",
    "        test_auprc.append(test_prc)\n",
    "        train_auroc.append(train_roc)\n",
    "        test_auroc.append(test_roc)\n",
    "    \n",
    "    return train_auprc, test_auprc, train_auroc, test_auroc\n",
    "\n",
    "# Evaluation function for AUPRC and AUROC\n",
    "def evaluate_model(model, loader):\n",
    "    # Assuming the LibAUC library or another package provides AUPRC and AUROC calculations\n",
    "    # Replace with appropriate metric functions if needed\n",
    "    # This is a placeholder\n",
    "    auprc, auroc = 0.85, 0.88  # Placeholder values\n",
    "    return auprc, auroc\n",
    "\n",
    "# Function to plot curves\n",
    "def plot_curves(train_auprc, test_auprc, train_auroc, test_auroc, model_name):\n",
    "    epochs = range(1, len(train_auprc) + 1)\n",
    "    plt.figure(figsize=(10, 5))\n",
    "    plt.plot(epochs, train_auprc, label='Train AUPRC')\n",
    "    plt.plot(epochs, test_auprc, label='Test AUPRC')\n",
    "    plt.plot(epochs, train_auroc, label='Train AUROC')\n",
    "    plt.plot(epochs, test_auroc, label='Test AUROC')\n",
    "    plt.xlabel('Epochs')\n",
    "    plt.ylabel('Score')\n",
    "    plt.title(f'AUPRC and AUROC for {model_name}')\n",
    "    plt.legend()\n",
    "    plt.show()"
   ]
  }
 ],
 "metadata": {
  "kernelspec": {
   "display_name": "Python 3",
   "language": "python",
   "name": "python3"
  },
  "language_info": {
   "codemirror_mode": {
    "name": "ipython",
    "version": 3
   },
   "file_extension": ".py",
   "mimetype": "text/x-python",
   "name": "python",
   "nbconvert_exporter": "python",
   "pygments_lexer": "ipython3",
   "version": "3.10.12"
  }
 },
 "nbformat": 4,
 "nbformat_minor": 2
}
